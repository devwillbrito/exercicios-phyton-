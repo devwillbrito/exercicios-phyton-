{
  "nbformat": 4,
  "nbformat_minor": 0,
  "metadata": {
    "colab": {
      "name": "Untitled18.ipynb",
      "provenance": [],
      "authorship_tag": "ABX9TyOduGpGXrZU2TrqZs+2cMl+",
      "include_colab_link": true
    },
    "kernelspec": {
      "name": "python3",
      "display_name": "Python 3"
    },
    "language_info": {
      "name": "python"
    }
  },
  "cells": [
    {
      "cell_type": "markdown",
      "metadata": {
        "id": "view-in-github",
        "colab_type": "text"
      },
      "source": [
        "<a href=\"https://colab.research.google.com/github/devwillbrito/exercicios-phyton-/blob/main/Untitled18.ipynb\" target=\"_parent\"><img src=\"https://colab.research.google.com/assets/colab-badge.svg\" alt=\"Open In Colab\"/></a>"
      ]
    },
    {
      "cell_type": "code",
      "metadata": {
        "colab": {
          "base_uri": "https://localhost:8080/",
          "height": 296
        },
        "id": "yQgYLi9tWCtR",
        "outputId": "52d78ba5-d33e-46fc-bfe0-82a7b5d963d6"
      },
      "source": [
        "ganhador='' #variavel pra o ganhador \n",
        "urna= 0 #variavel pro laço de repetição entender a hora de parar\n",
        "def autoriza_voto(ano):    #primeira função, seu serviço é identificar se o usuario pode voltar ou não\n",
        "  from datetime import date #biblioteca pra identificar a data de hoje\n",
        "  atual= date.today().year #colocamos um parametro que ele só deve mostrar o ano que estamos\n",
        "  idade= atual - ano #variavel pra fazer a conta da idade do usuario subtraindo a data de hoje menos data de nascimento dele\n",
        "  if idade < 16:\n",
        "    return f'a {idade} a lei NÃO PERMITE SEU VOTO'\n",
        "  elif 16 <= idade or idade > 65:\n",
        "    return f'a {idade} diz que SEU VOTO É OPCIONAL'\n",
        "  else:\n",
        "    return f' a {idade} diz que SEU VOTO É OBRIGATORIO'\n",
        "\n",
        "\n",
        "nascimento= int(input('qual sua data de nascimento?')) #coloca a idade do usuario\n",
        "print(autoriza_voto(nascimento)) #printa se ele o voto dele é obrigatorio, opcional ou invalido\n",
        "\n",
        "if (autoriza_voto(nascimento)) > 16 # aqui ele DEVERIA colocar que se a idade do usuario for menor de 16 não deixa ele progredir\n",
        "  break \n",
        "else:\n",
        "  pass \n",
        "\n",
        "\n",
        "\n",
        "\n",
        "def votacao(candidatos):  #segunda função para os votos do candidato\n",
        "  votos= 0\n",
        "  josemir_candidato = 0\n",
        "  if urna == 1:\n",
        "    return  josemir_candidato  +1\n",
        "\n",
        "\n",
        "  jeremias_candidato2 = 0\n",
        "  if urna == 2:\n",
        "    return  jeremias_candidato1  +1\n",
        "\n",
        "\n",
        "  joaquim_candidato3 = 0\n",
        "  if urna == 3:\n",
        "    return  joaquim_candidato1  +1\n",
        "  \n",
        "  branco = 0\n",
        "  if urna == 4:\n",
        "    return  branco  +1\n",
        "  \n",
        "  \n",
        "  nulo = 0\n",
        "  if urna == 5:\n",
        "    return  nulo  +1\n",
        "\n",
        "\n",
        "while urna != 6: #a urna só vai parar de contar os votos quando for digitado o numero 6\n",
        "  urna =int(input('numero do candidato'))\n",
        "  print('o numero 6 para a urna')\n",
        "\n",
        "votacao(josemir_candidato) #DEVERIA printar os votos de cada candidato   \n",
        "print(votacao(jeremias_candidato2))\n",
        "print(votacao(joaquim_candidato3))\n",
        "print(votacao(branco))\n",
        "print(votacao(nulo))\n",
        "\n",
        "#de forma manual mostrar qual candidato teve mais votos\n",
        "\n",
        "if votacao(josemir_candidato) > (votacao(jeremias_candidato2))\n",
        "   ganhador = votacao(josemir_candidato)\n",
        "  else:\n",
        "      ganhador = votacao(jeremias_candidato2)\n",
        "\n",
        "\n",
        "\n",
        "if ganhador > votacao(joaquim_candidato3)\n",
        "  pass\n",
        "  else:\n",
        "      ganhador = votacao(joaquim_candidato3)\n",
        "\n",
        "\n",
        "if ganhador > votacao(nulo)\n",
        "  pass\n",
        "  else:\n",
        "      ganhador = votacao(nulo)\n",
        "\n",
        "\n",
        "\n",
        "if ganhador > votacao(branco)\n",
        "  pass\n",
        "  else:\n",
        "      ganhador = votacao(branco)\n",
        "\n",
        "\n",
        "print(ganhador) #printar o vencedor \n",
        "\n",
        "\n",
        "\n",
        "\n"
      ],
      "execution_count": 33,
      "outputs": [
        {
          "output_type": "stream",
          "text": [
            "qual sua data de nascimento?1999\n",
            "a 22 diz que SEU VOTO É OPCIONAL\n",
            "numero do candidato1\n",
            "numero do candidato6\n"
          ],
          "name": "stdout"
        },
        {
          "output_type": "error",
          "ename": "NameError",
          "evalue": "ignored",
          "traceback": [
            "\u001b[0;31m---------------------------------------------------------------------------\u001b[0m",
            "\u001b[0;31mNameError\u001b[0m                                 Traceback (most recent call last)",
            "\u001b[0;32m<ipython-input-33-7f1f5f089215>\u001b[0m in \u001b[0;36m<module>\u001b[0;34m()\u001b[0m\n\u001b[1;32m     46\u001b[0m \u001b[0;34m\u001b[0m\u001b[0m\n\u001b[1;32m     47\u001b[0m \u001b[0;34m\u001b[0m\u001b[0m\n\u001b[0;32m---> 48\u001b[0;31m \u001b[0mvotacao\u001b[0m\u001b[0;34m(\u001b[0m\u001b[0mjosemir_candidato\u001b[0m\u001b[0;34m)\u001b[0m\u001b[0;34m\u001b[0m\u001b[0;34m\u001b[0m\u001b[0m\n\u001b[0m\u001b[1;32m     49\u001b[0m \u001b[0mprint\u001b[0m\u001b[0;34m(\u001b[0m\u001b[0mvotacao\u001b[0m\u001b[0;34m(\u001b[0m\u001b[0mjeremias_candidato2\u001b[0m\u001b[0;34m)\u001b[0m\u001b[0;34m)\u001b[0m\u001b[0;34m\u001b[0m\u001b[0;34m\u001b[0m\u001b[0m\n\u001b[1;32m     50\u001b[0m \u001b[0mprint\u001b[0m\u001b[0;34m(\u001b[0m\u001b[0mvotacao\u001b[0m\u001b[0;34m(\u001b[0m\u001b[0mjoaquim_candidato3\u001b[0m\u001b[0;34m)\u001b[0m\u001b[0;34m)\u001b[0m\u001b[0;34m\u001b[0m\u001b[0;34m\u001b[0m\u001b[0m\n",
            "\u001b[0;31mNameError\u001b[0m: name 'josemir_candidato' is not defined"
          ]
        }
      ]
    }
  ]
}