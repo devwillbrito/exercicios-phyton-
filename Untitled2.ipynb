{
  "nbformat": 4,
  "nbformat_minor": 0,
  "metadata": {
    "colab": {
      "name": "Untitled2.ipynb",
      "provenance": [],
      "authorship_tag": "ABX9TyMz8fneHwSAbkecS820rjL1",
      "include_colab_link": true
    },
    "kernelspec": {
      "name": "python3",
      "display_name": "Python 3"
    },
    "language_info": {
      "name": "python"
    }
  },
  "cells": [
    {
      "cell_type": "markdown",
      "metadata": {
        "id": "view-in-github",
        "colab_type": "text"
      },
      "source": [
        "<a href=\"https://colab.research.google.com/github/devwillbrito/exercicios-phyton-/blob/main/Untitled2.ipynb\" target=\"_parent\"><img src=\"https://colab.research.google.com/assets/colab-badge.svg\" alt=\"Open In Colab\"/></a>"
      ]
    },
    {
      "cell_type": "code",
      "metadata": {
        "colab": {
          "base_uri": "https://localhost:8080/"
        },
        "id": "yEgv0U906BCd",
        "outputId": "941c8301-e3d2-40dc-a902-4b608fcb5a83"
      },
      "source": [
        "print('o primeiro programa a gente nunca esquece' )"
      ],
      "execution_count": null,
      "outputs": [
        {
          "output_type": "stream",
          "text": [
            "o primeiro programa a gente nunca esquece\n"
          ],
          "name": "stdout"
        }
      ]
    },
    {
      "cell_type": "code",
      "metadata": {
        "colab": {
          "base_uri": "https://localhost:8080/"
        },
        "id": "avUeY_tS7cMz",
        "outputId": "c0cae4b6-f7f1-4819-c1c5-aca2b9b3d36d"
      },
      "source": [
        "nome=input (\"insira seu nome completo\")\n",
        "endereço=input (\"insira seu endereço\")\n",
        "cep=input (\"insira seu cep\")\n",
        "telefone=input (\"insira seu telefone\")\n",
        "\n",
        "print(f'ola {nome} seu dados: você mora em: {endereço}, seu cep é: {cep}, seu numero de telefone é: {telefone} ')"
      ],
      "execution_count": null,
      "outputs": [
        {
          "output_type": "stream",
          "text": [
            "insira seu nome completowilliam brito\n",
            "insira seu endereço1 2 3 de oliveira 4\n",
            "insira seu cep40028922\n",
            "insira seu telefone11998877665544\n",
            "ola william brito seu dados: você mora em: 1 2 3 de oliveira 4, seu cep é: 40028922, seu numero de telefone é: 11998877665544 \n"
          ],
          "name": "stdout"
        }
      ]
    },
    {
      "cell_type": "code",
      "metadata": {
        "colab": {
          "base_uri": "https://localhost:8080/",
          "height": 128
        },
        "id": "8LpHm9h39G-d",
        "outputId": "72055b6c-94ec-4482-ab62-acc3b3e4cb13"
      },
      "source": [
        ""
      ],
      "execution_count": null,
      "outputs": [
        {
          "output_type": "error",
          "ename": "SyntaxError",
          "evalue": "ignored",
          "traceback": [
            "\u001b[0;36m  File \u001b[0;32m\"<ipython-input-32-823061bf0531>\"\u001b[0;36m, line \u001b[0;32m1\u001b[0m\n\u001b[0;31m    str (frank ocean ivy)= musica\u001b[0m\n\u001b[0m                   ^\u001b[0m\n\u001b[0;31mSyntaxError\u001b[0m\u001b[0;31m:\u001b[0m invalid syntax\n"
          ]
        }
      ]
    },
    {
      "cell_type": "code",
      "metadata": {
        "colab": {
          "base_uri": "https://localhost:8080/"
        },
        "id": "yDte3D3T_Zci",
        "outputId": "b77da7c7-8628-43bf-f380-a1014ce92278"
      },
      "source": [
        "aline= (f'tirou nota 9.0')\n",
        "Mario= (f'tirou nota 10')\n",
        "sergio= (f'tirou nota 4.5')\n",
        "shirley= (f'tirou nota 7.0')\n",
        "print (f'a aluna aline {aline}')\n",
        "print (f'a aluna Mario {Mario}')\n",
        "print (f'a aluna sergio {sergio}')\n",
        "print (f'a aluna shirley {shirley}')"
      ],
      "execution_count": null,
      "outputs": [
        {
          "output_type": "stream",
          "text": [
            "insira o nome do {aluno}aline\n",
            "aline\n",
            "a aluna aline tirou nota 9.0\n",
            "a aluna Mario tirou nota 10\n",
            "a aluna sergio tirou nota 4.5\n",
            "a aluna shirley tirou nota 7.0\n"
          ],
          "name": "stdout"
        }
      ]
    },
    {
      "cell_type": "code",
      "metadata": {
        "id": "uBzTg8E-ECXo"
      },
      "source": [
        ""
      ],
      "execution_count": null,
      "outputs": []
    },
    {
      "cell_type": "code",
      "metadata": {
        "colab": {
          "base_uri": "https://localhost:8080/"
        },
        "id": "a7oukkGLFJee",
        "outputId": "7079bead-1481-4002-c216-92fba5663933"
      },
      "source": [
        "n1= int (input ('quantidade da vida do monstro de 10 a 50 '))\n",
        "n2= int (input ('quantidade de ataque que seu personagem ira atingit o monstro de 10 a 50 '))\n",
        "divInteira = n1 // n2\n",
        "print(f'{n1} // {n2} = {divInteira}')"
      ],
      "execution_count": null,
      "outputs": [
        {
          "output_type": "stream",
          "text": [
            "quantidade da vida do monstro de 10 a 50 20\n",
            "quantidade de ataque que seu personagem ira atingit o monstro de 10 a 50 20\n",
            "20 // 20 = 1\n"
          ],
          "name": "stdout"
        }
      ]
    },
    {
      "cell_type": "code",
      "metadata": {
        "id": "jOjqSyWZaZqM"
      },
      "source": [
        "\n"
      ],
      "execution_count": null,
      "outputs": []
    },
    {
      "cell_type": "code",
      "metadata": {
        "colab": {
          "base_uri": "https://localhost:8080/"
        },
        "id": "Toi9-TQCbLPR",
        "outputId": "cd156f43-8c6e-4cf0-ff92-6ed18ffcc8cc"
      },
      "source": [
        "n2 = float('100.9 ')\n",
        "n1 = float('150.8 ')\n",
        "sub = n1 - n2\n",
        "print(f'{n1} - {n2} = {sub:.2f}')\n"
      ],
      "execution_count": null,
      "outputs": [
        {
          "output_type": "stream",
          "text": [
            "150.8 - 100.9 = 49.90\n"
          ],
          "name": "stdout"
        }
      ]
    }
  ]
}